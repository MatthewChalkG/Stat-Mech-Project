{
 "cells": [
  {
   "cell_type": "code",
   "execution_count": 267,
   "id": "d1be0ac6",
   "metadata": {},
   "outputs": [],
   "source": [
    "import math\n",
    "import numpy as np\n",
    "import matplotlib.pyplot as plt\n",
    "import pandas as pd"
   ]
  },
  {
   "cell_type": "code",
   "execution_count": 268,
   "id": "1e22ca7a",
   "metadata": {},
   "outputs": [],
   "source": [
    "# 0 empty, 1 trap\n",
    "# initialize\n",
    "def startWalk():\n",
    "    grid = {}\n",
    "    grid[(0,0,0)] = 0\n",
    "    currentLoc = (0, 0, 0)\n",
    "    steps = 0\n",
    "    end = False\n",
    "    deathReason = None\n",
    "    return grid, currentLoc, steps, end, deathReason"
   ]
  },
  {
   "cell_type": "code",
   "execution_count": 269,
   "id": "7e2fcae3",
   "metadata": {},
   "outputs": [],
   "source": [
    "# first step\n",
    "def oneStep(steps, grid, currentLoc, probOfTrap, end, deathReason, probOfEmission):\n",
    "    steps+=1\n",
    "    direction = np.random.choice([\"x\", \"y\", \"z\"])\n",
    "    forwardOrBack = np.random.choice([-1, 1])\n",
    "    if direction == \"x\":\n",
    "        newLoc = (currentLoc[0] + forwardOrBack, currentLoc[1], currentLoc[2])\n",
    "    elif direction == \"y\":\n",
    "        newLoc = (currentLoc[0] , currentLoc[1]+forwardOrBack, currentLoc[2])\n",
    "    else:\n",
    "        newLoc = (currentLoc[0] , currentLoc[1], currentLoc[2]+forwardOrBack)\n",
    "    \n",
    "    emission = np.random.choice([0, 1], p = [1-probOfEmission, probOfEmission])\n",
    "    \n",
    "    if emission == 0: # no emission\n",
    "        if newLoc in grid:\n",
    "            pass\n",
    "        else:\n",
    "            trap = np.random.choice([0, 1], p = [1-probOfTrap, probOfTrap])\n",
    "            grid[newLoc] = trap\n",
    "\n",
    "            if trap == 1:\n",
    "                end = True\n",
    "                deathReason = \"trap\"\n",
    "    \n",
    "    else:\n",
    "        end = True\n",
    "        deathReason = \"emission\"\n",
    "    \n",
    "    \n",
    "    \n",
    "    return steps, grid, newLoc, end, deathReason"
   ]
  },
  {
   "cell_type": "code",
   "execution_count": 270,
   "id": "9f67fded",
   "metadata": {},
   "outputs": [],
   "source": [
    "def walkUntilTrap(probOfTrap, probOfEmission):\n",
    "    \n",
    "    grid, currentLoc, steps, end, deathReason = startWalk()\n",
    "    while end == False:\n",
    "        steps, grid, currentLoc, end, deathReason =  oneStep(steps, grid, currentLoc, probOfTrap, end, deathReason, probOfEmission)\n",
    "    return steps, grid, currentLoc, deathReason"
   ]
  },
  {
   "cell_type": "code",
   "execution_count": 271,
   "id": "a73932cc",
   "metadata": {},
   "outputs": [],
   "source": [
    "def createDistribution(numRuns, probOfTrap, probOfEmission):\n",
    "    steps = []\n",
    "    distance = []\n",
    "    deathReasons = []\n",
    "    for i in range(numRuns):\n",
    "        result = walkUntilTrap(probOfTrap, probOfEmission)\n",
    "        steps += [result[0]]\n",
    "        distance += [np.sqrt(result[2][0]**2 + result[2][1]**2 + result[2][2]**2)]\n",
    "        deathReasons += [result[3]]\n",
    "    return steps, distance, deathReasons"
   ]
  },
  {
   "cell_type": "code",
   "execution_count": 276,
   "id": "8a17cdf7",
   "metadata": {},
   "outputs": [],
   "source": [
    "steps, distance, deathReasons = createDistribution(10, .01, .05)"
   ]
  },
  {
   "cell_type": "code",
   "execution_count": 277,
   "id": "e6c02cd5",
   "metadata": {},
   "outputs": [
    {
     "data": {
      "text/plain": [
       "['emission',\n",
       " 'emission',\n",
       " 'emission',\n",
       " 'emission',\n",
       " 'emission',\n",
       " 'emission',\n",
       " 'emission',\n",
       " 'trap',\n",
       " 'emission',\n",
       " 'emission']"
      ]
     },
     "execution_count": 277,
     "metadata": {},
     "output_type": "execute_result"
    }
   ],
   "source": [
    "deathReasons"
   ]
  },
  {
   "cell_type": "code",
   "execution_count": 278,
   "id": "e037bcd9",
   "metadata": {},
   "outputs": [
    {
     "data": {
      "text/plain": [
       "14.2"
      ]
     },
     "execution_count": 278,
     "metadata": {},
     "output_type": "execute_result"
    }
   ],
   "source": [
    "np.mean(steps)"
   ]
  },
  {
   "cell_type": "code",
   "execution_count": 310,
   "id": "83edaae0",
   "metadata": {},
   "outputs": [],
   "source": [
    "def scanProb(probOfEmission = .1):\n",
    "    pVals = np.logspace(-2.5,-.01, 100)\n",
    "    meanStepsL = []\n",
    "    meanDistanceL = []\n",
    "    for p in pVals:\n",
    "        steps, distance, deathReasons = createDistribution(100, p, probOfEmission)\n",
    "        meanStepsL += [np.mean(steps)]\n",
    "        meanDistanceL += [np.mean(distance)]\n",
    "    \n",
    "    return meanStepsL, meanDistanceL\n",
    "        "
   ]
  },
  {
   "cell_type": "code",
   "execution_count": 311,
   "id": "6e2a6067",
   "metadata": {},
   "outputs": [],
   "source": [
    "stepL, distL = scanProb(.01)"
   ]
  },
  {
   "cell_type": "code",
   "execution_count": 312,
   "id": "5f7ae3f1",
   "metadata": {},
   "outputs": [
    {
     "data": {
      "text/plain": [
       "[<matplotlib.lines.Line2D at 0x2a52442c3a0>]"
      ]
     },
     "execution_count": 312,
     "metadata": {},
     "output_type": "execute_result"
    },
    {
     "data": {
      "image/png": "[encoded data removed]",
      "text/plain": [
       "<Figure size 432x288 with 1 Axes>"
      ]
     },
     "metadata": {
      "needs_background": "light"
     },
     "output_type": "display_data"
    }
   ],
   "source": [
    "pVal = np.logspace(-2.5,-.01, 100)\n",
    "plt.plot(np.log10(pVal), np.log10(distL))"
   ]
  },
  {
   "cell_type": "code",
   "execution_count": null,
   "id": "d7be6697",
   "metadata": {
    "scrolled": false
   },
   "outputs": [],
   "source": [
    "plt.plot(np.log10(pVal), np.log10(stepL))"
   ]
  },
  {
   "cell_type": "code",
   "execution_count": 301,
   "id": "d721bc7e",
   "metadata": {},
   "outputs": [],
   "source": [
    "from sklearn.linear_model import LinearRegression"
   ]
  },
  {
   "cell_type": "code",
   "execution_count": null,
   "id": "72c02096",
   "metadata": {},
   "outputs": [],
   "source": [
    "x = np.array(np.log10(pVal)).reshape((-1, 1))\n",
    "dist = np.array(np.log10(distL))\n",
    "steps = np.array(np.log10(stepL))"
   ]
  },
  {
   "cell_type": "code",
   "execution_count": null,
   "id": "e210a151",
   "metadata": {},
   "outputs": [],
   "source": [
    "linFit = LinearRegression()"
   ]
  },
  {
   "cell_type": "code",
   "execution_count": null,
   "id": "559a671b",
   "metadata": {},
   "outputs": [],
   "source": [
    "linFit.fit(x,dist)\n",
    "print(linFit.score(x,dist), linFit.intercept_, linFit.coef_)"
   ]
  },
  {
   "cell_type": "code",
   "execution_count": null,
   "id": "01425aea",
   "metadata": {},
   "outputs": [],
   "source": [
    "linFit.fit(x, steps)\n",
    "print(linFit.score(x,steps), linFit.intercept_, linFit.coef_)"
   ]
  },
  {
   "cell_type": "code",
   "execution_count": null,
   "id": "ae7f0d31",
   "metadata": {},
   "outputs": [],
   "source": [
    "np.histogram(stepL)"
   ]
  },
  {
   "cell_type": "markdown",
   "id": "056854f1",
   "metadata": {},
   "source": [
    "1. We could do more general N dimensions/compare it \n",
    "2. Heat map 2d of particle travel distance\n",
    "3. emission as well as absorption as a walker destruction method\n",
    "4. how many runs do you need \n",
    "5. We could also add line of fit and calculate eqn from slope of log log plot\n",
    "6. Connect to diffusion\n",
    "7. Trapping death prob non-1\n",
    "8. p of return to origin\n",
    "9. How much overlapping vs non - overlapping occurs\n"
   ]
  },
  {
   "cell_type": "markdown",
   "id": "aafcfdb3",
   "metadata": {},
   "source": [
    "1. Start at origin\n",
    "Repeat Process:\n",
    "2. Step 1 unit step in any direction (6 choices)\n",
    "3. You check whether that directions a trap (trap generated w/ prob p unless that cell is a \"safe cell\")\n",
    "4. If its not a trap then you add that cell to a dictionary of \"safe cells\"\n",
    "5. if its not a trap repeat\n",
    "6. If it is a trap end and return distance and steps traveled.\n",
    "\n"
   ]
  },
  {
   "cell_type": "code",
   "execution_count": null,
   "id": "2cfee992",
   "metadata": {},
   "outputs": [],
   "source": []
  }
 ],
 "metadata": {
  "kernelspec": {
   "display_name": "Python 3 (ipykernel)",
   "language": "python",
   "name": "python3"
  },
  "language_info": {
   "codemirror_mode": {
    "name": "ipython",
    "version": 3
   },
   "file_extension": ".py",
   "mimetype": "text/x-python",
   "name": "python",
   "nbconvert_exporter": "python",
   "pygments_lexer": "ipython3",
   "version": "3.8.7"
  }
 },
 "nbformat": 4,
 "nbformat_minor": 5
}

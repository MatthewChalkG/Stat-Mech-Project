{
 "cells": [
  {
   "cell_type": "code",
   "execution_count": 2,
   "id": "d1be0ac6",
   "metadata": {},
   "outputs": [],
   "source": [
    "import math\n",
    "import numpy as np\n",
    "import matplotlib.pyplot as plt\n",
    "import pandas as pd"
   ]
  },
  {
   "cell_type": "code",
   "execution_count": 3,
   "id": "1e22ca7a",
   "metadata": {},
   "outputs": [],
   "source": [
    "# 0 empty, 1 trap\n",
    "# initialize\n",
    "def startWalk(  probOfTrap = .1):\n",
    "    grid = {}\n",
    "    grid[(0,0,0)] = 0\n",
    "    currentLoc = (0, 0, 0)\n",
    "    steps = 0\n",
    "    end = False\n",
    "    return grid, currentLoc, steps, end"
   ]
  },
  {
   "cell_type": "code",
   "execution_count": 4,
   "id": "7e2fcae3",
   "metadata": {},
   "outputs": [],
   "source": [
    "# first step\n",
    "def oneStep(steps, grid, currentLoc, probOfTrap, end):\n",
    "    steps+=1\n",
    "    direction = np.random.choice([\"x\", \"y\", \"z\"])\n",
    "    forwardOrBack = np.random.choice([-1, 1])\n",
    "    if direction == \"x\":\n",
    "        newLoc = (currentLoc[0] + forwardOrBack, currentLoc[1], currentLoc[2])\n",
    "    elif direction == \"y\":\n",
    "        newLoc = (currentLoc[0] , currentLoc[1]+forwardOrBack, currentLoc[2])\n",
    "    else:\n",
    "        newLoc = (currentLoc[0] , currentLoc[1], currentLoc[2]+forwardOrBack)\n",
    "\n",
    "    if newLoc in grid:\n",
    "        pass\n",
    "    else:\n",
    "        trap = np.random.choice([0, 1], p = [1-probOfTrap, probOfTrap])\n",
    "        grid[newLoc] = trap\n",
    "        \n",
    "        if trap == 1:\n",
    "            end = True\n",
    "    return steps, grid, newLoc, end"
   ]
  },
  {
   "cell_type": "code",
   "execution_count": 5,
   "id": "9f67fded",
   "metadata": {},
   "outputs": [],
   "source": [
    "def walkUntilTrap(probOfTrap):\n",
    "    \n",
    "    grid, currentLoc, steps, end = startWalk(probOfTrap = probOfTrap)\n",
    "    while end == False:\n",
    "        steps, grid, currentLoc, end =  oneStep(steps, grid, currentLoc, probOfTrap, end)\n",
    "    return steps, grid, currentLoc"
   ]
  },
  {
   "cell_type": "code",
   "execution_count": 6,
   "id": "d62a25cb",
   "metadata": {},
   "outputs": [
    {
     "data": {
      "text/plain": [
       "(2, {(0, 0, 0): 0, (0, 0, 1): 0, (1, 0, 1): 1}, (1, 0, 1))"
      ]
     },
     "execution_count": 6,
     "metadata": {},
     "output_type": "execute_result"
    }
   ],
   "source": [
    "walkUntilTrap(.3)"
   ]
  },
  {
   "cell_type": "code",
   "execution_count": 7,
   "id": "a73932cc",
   "metadata": {},
   "outputs": [],
   "source": [
    "def createDistribution(numRuns, probOfTrap):\n",
    "    steps = []\n",
    "    distance = []\n",
    "    for i in range(numRuns):\n",
    "        result = walkUntilTrap(probOfTrap)\n",
    "        steps += [result[0]]\n",
    "        distance += [np.sqrt(result[2][0]**2 + result[2][1]**2 + result[2][2]**2)]\n",
    "    return steps, distance"
   ]
  },
  {
   "cell_type": "code",
   "execution_count": 8,
   "id": "8a17cdf7",
   "metadata": {},
   "outputs": [],
   "source": [
    "steps, distance = createDistribution(1000, .01)"
   ]
  },
  {
   "cell_type": "code",
   "execution_count": 9,
   "id": "e037bcd9",
   "metadata": {},
   "outputs": [
    {
     "data": {
      "text/plain": [
       "142.035"
      ]
     },
     "execution_count": 9,
     "metadata": {},
     "output_type": "execute_result"
    }
   ],
   "source": [
    "np.mean(steps)"
   ]
  },
  {
   "cell_type": "code",
   "execution_count": 11,
   "id": "be982c1f",
   "metadata": {},
   "outputs": [
    {
     "data": {
      "text/plain": [
       "array([0.01      , 0.01989899, 0.02979798, 0.03969697, 0.04959596,\n",
       "       0.05949495, 0.06939394, 0.07929293, 0.08919192, 0.09909091,\n",
       "       0.1089899 , 0.11888889, 0.12878788, 0.13868687, 0.14858586,\n",
       "       0.15848485, 0.16838384, 0.17828283, 0.18818182, 0.19808081,\n",
       "       0.2079798 , 0.21787879, 0.22777778, 0.23767677, 0.24757576,\n",
       "       0.25747475, 0.26737374, 0.27727273, 0.28717172, 0.29707071,\n",
       "       0.3069697 , 0.31686869, 0.32676768, 0.33666667, 0.34656566,\n",
       "       0.35646465, 0.36636364, 0.37626263, 0.38616162, 0.39606061,\n",
       "       0.4059596 , 0.41585859, 0.42575758, 0.43565657, 0.44555556,\n",
       "       0.45545455, 0.46535354, 0.47525253, 0.48515152, 0.49505051,\n",
       "       0.50494949, 0.51484848, 0.52474747, 0.53464646, 0.54454545,\n",
       "       0.55444444, 0.56434343, 0.57424242, 0.58414141, 0.5940404 ,\n",
       "       0.60393939, 0.61383838, 0.62373737, 0.63363636, 0.64353535,\n",
       "       0.65343434, 0.66333333, 0.67323232, 0.68313131, 0.6930303 ,\n",
       "       0.70292929, 0.71282828, 0.72272727, 0.73262626, 0.74252525,\n",
       "       0.75242424, 0.76232323, 0.77222222, 0.78212121, 0.7920202 ,\n",
       "       0.80191919, 0.81181818, 0.82171717, 0.83161616, 0.84151515,\n",
       "       0.85141414, 0.86131313, 0.87121212, 0.88111111, 0.8910101 ,\n",
       "       0.90090909, 0.91080808, 0.92070707, 0.93060606, 0.94050505,\n",
       "       0.95040404, 0.96030303, 0.97020202, 0.98010101, 0.99      ])"
      ]
     },
     "execution_count": 11,
     "metadata": {},
     "output_type": "execute_result"
    }
   ],
   "source": [
    "np.linspace(0.01,.99, 100)"
   ]
  },
  {
   "cell_type": "code",
   "execution_count": 157,
   "id": "acc2f9de",
   "metadata": {},
   "outputs": [
    {
     "data": {
      "text/plain": [
       "10.022252372484575"
      ]
     },
     "execution_count": 157,
     "metadata": {},
     "output_type": "execute_result"
    }
   ],
   "source": [
    "np.mean(distance)"
   ]
  },
  {
   "cell_type": "code",
   "execution_count": 92,
   "id": "83edaae0",
   "metadata": {},
   "outputs": [],
   "source": [
    "def scanProb():\n",
    "    pVals = np.logspace(-3,-.01, 100)\n",
    "    meanStepsL = []\n",
    "    meanDistanceL = []\n",
    "    for p in pVals:\n",
    "        steps, distance = createDistribution(100, p)\n",
    "        meanStepsL += [np.mean(steps)]\n",
    "        meanDistanceL += [np.mean(distance)]\n",
    "    return meanStepsL, meanDistanceL\n",
    "        "
   ]
  },
  {
   "cell_type": "code",
   "execution_count": 93,
   "id": "6e2a6067",
   "metadata": {},
   "outputs": [],
   "source": [
    "stepL, distL = scanProb()"
   ]
  },
  {
   "cell_type": "code",
   "execution_count": 97,
   "id": "95a3989c",
   "metadata": {},
   "outputs": [
    {
     "data": {
      "text/plain": [
       "(array([44., 12., 13.,  7.,  5.,  4.,  6.,  3.,  3.,  3.]),\n",
       " array([ 1.00414214,  4.1876763 ,  7.37121046, 10.55474462, 13.73827878,\n",
       "        16.92181294, 20.1053471 , 23.28888126, 26.47241542, 29.65594958,\n",
       "        32.83948375]),\n",
       " <BarContainer object of 10 artists>)"
      ]
     },
     "execution_count": 97,
     "metadata": {},
     "output_type": "execute_result"
    },
    {
     "data": {
      "image/png": "[encoded data removed]",
      "text/plain": [
       "<Figure size 432x288 with 1 Axes>"
      ]
     },
     "metadata": {
      "needs_background": "light"
     },
     "output_type": "display_data"
    }
   ],
   "source": [
    "plt.hist(distL)"
   ]
  },
  {
   "cell_type": "code",
   "execution_count": 95,
   "id": "0fa7be46",
   "metadata": {},
   "outputs": [
    {
     "data": {
      "text/plain": [
       "[<matplotlib.lines.Line2D at 0x1fe8d4d8b20>]"
      ]
     },
     "execution_count": 95,
     "metadata": {},
     "output_type": "execute_result"
    },
    {
     "data": {
      "image/png": "[encoded data removed]",
      "text/plain": [
       "<Figure size 432x288 with 1 Axes>"
      ]
     },
     "metadata": {
      "needs_background": "light"
     },
     "output_type": "display_data"
    }
   ],
   "source": [
    "plt.plot(np.log(pVal), np.log(distL))"
   ]
  },
  {
   "cell_type": "code",
   "execution_count": 96,
   "id": "d7be6697",
   "metadata": {
    "scrolled": true
   },
   "outputs": [
    {
     "data": {
      "text/plain": [
       "[<matplotlib.lines.Line2D at 0x1fe8d541f10>]"
      ]
     },
     "execution_count": 96,
     "metadata": {},
     "output_type": "execute_result"
    },
    {
     "data": {
      "image/png": "[encoded data removed]",
      "text/plain": [
       "<Figure size 432x288 with 1 Axes>"
      ]
     },
     "metadata": {
      "needs_background": "light"
     },
     "output_type": "display_data"
    }
   ],
   "source": [
    "plt.plot(np.log(pVal), np.log(stepL))"
   ]
  },
  {
   "cell_type": "code",
   "execution_count": null,
   "id": "930736ea",
   "metadata": {},
   "outputs": [],
   "source": [
    "def twoDimensionalHeatMap():"
   ]
  },
  {
   "cell_type": "code",
   "execution_count": 99,
   "id": "ae7f0d31",
   "metadata": {},
   "outputs": [
    {
     "data": {
      "text/plain": [
       "(array([68,  9,  6,  3,  1,  5,  1,  1,  5,  1], dtype=int64),\n",
       " array([1.030000e+00, 1.476680e+02, 2.943060e+02, 4.409440e+02,\n",
       "        5.875820e+02, 7.342200e+02, 8.808580e+02, 1.027496e+03,\n",
       "        1.174134e+03, 1.320772e+03, 1.467410e+03]))"
      ]
     },
     "execution_count": 99,
     "metadata": {},
     "output_type": "execute_result"
    }
   ],
   "source": [
    "np.histogram(stepL)"
   ]
  },
  {
   "cell_type": "markdown",
   "id": "056854f1",
   "metadata": {},
   "source": [
    "1. We could do more general N dimensions/compare it \n",
    "2. Heat map 2d of particle travel distance\n",
    "3. emission as well as absorption as a walker destruction method\n",
    "4. how many runs do you need \n",
    "5. We could also add line of fit and calculate eqn from slope of log log plot\n",
    "6. Connect to diffusion"
   ]
  },
  {
   "cell_type": "code",
   "execution_count": null,
   "id": "781b5e27",
   "metadata": {},
   "outputs": [],
   "source": []
  }
 ],
 "metadata": {
  "kernelspec": {
   "display_name": "Python 3 (ipykernel)",
   "language": "python",
   "name": "python3"
  },
  "language_info": {
   "codemirror_mode": {
    "name": "ipython",
    "version": 3
   },
   "file_extension": ".py",
   "mimetype": "text/x-python",
   "name": "python",
   "nbconvert_exporter": "python",
   "pygments_lexer": "ipython3",
   "version": "3.8.7"
  }
 },
 "nbformat": 4,
 "nbformat_minor": 5
}

{
 "cells": [
  {
   "cell_type": "code",
   "execution_count": 408,
   "id": "d1be0ac6",
   "metadata": {},
   "outputs": [],
   "source": [
    "import math\n",
    "import numpy as np\n",
    "import matplotlib.pyplot as plt\n",
    "import pandas as pd"
   ]
  },
  {
   "cell_type": "code",
   "execution_count": 409,
   "id": "1e22ca7a",
   "metadata": {},
   "outputs": [],
   "source": [
    "# 0 empty, 1 trap\n",
    "# initialize\n",
    "def startWalk():\n",
    "    grid = {}\n",
    "    grid[(0,0,0)] = 0\n",
    "    currentLoc = (0, 0, 0)\n",
    "    steps = 0\n",
    "    end = False\n",
    "    deathReason = None\n",
    "    return grid, currentLoc, steps, end, deathReason"
   ]
  },
  {
   "cell_type": "code",
   "execution_count": 410,
   "id": "7e2fcae3",
   "metadata": {},
   "outputs": [],
   "source": [
    "# first step\n",
    "def oneStep(steps, grid, currentLoc, probOfTrap, end, deathReason, probOfEmission, dimensions):\n",
    "    steps+=1\n",
    "    directionsList = [\"x\", \"y\", \"z\"]\n",
    "    direction = np.random.choice(directionsList[:dimensions])\n",
    "    forwardOrBack = np.random.choice([-1, 1])\n",
    "    if direction == \"x\":\n",
    "        newLoc = (currentLoc[0] + forwardOrBack, currentLoc[1], currentLoc[2])\n",
    "    elif direction == \"y\":\n",
    "        newLoc = (currentLoc[0] , currentLoc[1]+forwardOrBack, currentLoc[2])\n",
    "    else:\n",
    "        newLoc = (currentLoc[0] , currentLoc[1], currentLoc[2]+forwardOrBack)\n",
    "    \n",
    "    emission = np.random.choice([0, 1], p = [1-probOfEmission, probOfEmission])\n",
    "    \n",
    "    if emission == 0: # no emission\n",
    "        if newLoc in grid:\n",
    "            pass\n",
    "        else:\n",
    "            trap = np.random.choice([0, 1], p = [1-probOfTrap, probOfTrap])\n",
    "            grid[newLoc] = trap\n",
    "\n",
    "            if trap == 1:\n",
    "                end = True\n",
    "                deathReason = \"trap\"\n",
    "    \n",
    "    else:\n",
    "        end = True\n",
    "        deathReason = \"emission\"\n",
    "    \n",
    "    \n",
    "    \n",
    "    return steps, grid, newLoc, end, deathReason"
   ]
  },
  {
   "cell_type": "code",
   "execution_count": 411,
   "id": "9f67fded",
   "metadata": {},
   "outputs": [],
   "source": [
    "def walkUntilTrap(probOfTrap, probOfEmission, dimensions):\n",
    "    \n",
    "    grid, currentLoc, steps, end, deathReason = startWalk()\n",
    "    while end == False:\n",
    "        steps, grid, currentLoc, end, deathReason =  oneStep(steps, grid, currentLoc, probOfTrap, end, deathReason, probOfEmission, dimensions)\n",
    "    return steps, grid, currentLoc, deathReason"
   ]
  },
  {
   "cell_type": "code",
   "execution_count": 412,
   "id": "a73932cc",
   "metadata": {},
   "outputs": [],
   "source": [
    "def createDistribution(numRuns, probOfTrap, probOfEmission, dimensions):\n",
    "    steps = []\n",
    "    distance = []\n",
    "    deathReasons = []\n",
    "    for i in range(numRuns):\n",
    "        result = walkUntilTrap(probOfTrap, probOfEmission, dimensions)\n",
    "        steps += [result[0]]\n",
    "        distance += [np.sqrt(result[2][0]**2 + result[2][1]**2 + result[2][2]**2)]\n",
    "        deathReasons += [result[3]]\n",
    "    return steps, distance, deathReasons"
   ]
  },
  {
   "cell_type": "code",
   "execution_count": 413,
   "id": "8a17cdf7",
   "metadata": {},
   "outputs": [],
   "source": [
    "steps, distance, deathReasons = createDistribution(10, .01, .05, 3)"
   ]
  },
  {
   "cell_type": "code",
   "execution_count": 414,
   "id": "ea4022b0",
   "metadata": {},
   "outputs": [
    {
     "data": {
      "text/plain": [
       "['emission',\n",
       " 'emission',\n",
       " 'emission',\n",
       " 'emission',\n",
       " 'emission',\n",
       " 'trap',\n",
       " 'emission',\n",
       " 'emission',\n",
       " 'emission',\n",
       " 'emission']"
      ]
     },
     "execution_count": 414,
     "metadata": {},
     "output_type": "execute_result"
    }
   ],
   "source": [
    "deathReasons"
   ]
  },
  {
   "cell_type": "code",
   "execution_count": 415,
   "id": "e037bcd9",
   "metadata": {},
   "outputs": [
    {
     "data": {
      "text/plain": [
       "8.6"
      ]
     },
     "execution_count": 415,
     "metadata": {},
     "output_type": "execute_result"
    }
   ],
   "source": [
    "np.mean(steps)"
   ]
  },
  {
   "cell_type": "code",
   "execution_count": 448,
   "id": "83edaae0",
   "metadata": {},
   "outputs": [],
   "source": [
    "def scanProbTrap(probOfEmission = .9, numProbs = 10, numRuns = 100, dimensions = 3):\n",
    "    pVals = np.logspace(-2.5,-.01, numProbs)\n",
    "    meanStepsL = []\n",
    "    meanDistanceL = []\n",
    "    for p in pVals:\n",
    "        steps, distance, deathReasons = createDistribution(numRuns, p, probOfEmission, dimensions)\n",
    "        meanStepsL += [np.mean(steps)]\n",
    "        meanDistanceL += [np.mean(distance)]\n",
    "    \n",
    "    return meanStepsL, meanDistanceL\n",
    "\n",
    "def scanProbEmission(probOfTrap = .1, numProbs = 10, numRuns = 100):\n",
    "    pVals = np.logspace(-3,-.01, numProbs)\n",
    "    meanStepsL = []\n",
    "    meanDistanceL = []\n",
    "    for p in pVals:\n",
    "        steps, distance, deathReasons = createDistribution(numRuns, probOfTrap, p)\n",
    "        meanStepsL += [np.mean(steps)]\n",
    "        meanDistanceL += [np.mean(distance)]\n",
    "    return meanStepsL, meanDistanceL"
   ]
  },
  {
   "cell_type": "code",
   "execution_count": 479,
   "id": "6e2a6067",
   "metadata": {},
   "outputs": [],
   "source": [
    "numProbs = 20\n",
    "#stepL1, distL1 = scanProbTrap(probOfEmission = 0, numRuns = 10, numProbs = numProbs, dimensions = 1)\n",
    "#stepL2, distL2 = scanProbTrap(probOfEmission = 0, numRuns = 1, numProbs = numProbs, dimensions = 2)\n",
    "stepL3, distL3 = scanProbTrap(probOfEmission = 0, numRuns = 20, numProbs = numProbs, dimensions = 4)\n",
    "pVal = np.logspace(-3,-.01, numProbs)\n",
    "\n",
    "stepAvg1 = (1-pVal)/pVal**2\n",
    "\n",
    "C = .77216\n",
    "stepAvg2 = 1/(np.pi *pVal) *(-np.log(np.pi*pVal) + 1  - C)\n",
    "\n",
    "F = .340537\n",
    "stepAvg3 = pVal * (1-F)/(1-(1-pVal)**(1-F))**2\n",
    "\n",
    "\n"
   ]
  },
  {
   "cell_type": "code",
   "execution_count": 480,
   "id": "3bb85757",
   "metadata": {},
   "outputs": [
    {
     "data": {
      "text/plain": [
       "[<matplotlib.lines.Line2D at 0x2a528ec8490>]"
      ]
     },
     "execution_count": 480,
     "metadata": {},
     "output_type": "execute_result"
    },
    {
     "data": {
      "image/png": "[encoded data removed]",
      "text/plain": [
       "<Figure size 432x288 with 1 Axes>"
      ]
     },
     "metadata": {
      "needs_background": "light"
     },
     "output_type": "display_data"
    }
   ],
   "source": [
    "plt.plot(np.log10(pVal), np.log10(stepL3))\n",
    "plt.plot(np.log10(pVal),  np.log10(stepAvg3))"
   ]
  },
  {
   "cell_type": "code",
   "execution_count": 432,
   "id": "fcdd576d",
   "metadata": {},
   "outputs": [
    {
     "data": {
      "text/plain": [
       "array([ 1.17401608e+02,  6.08205672e+01,  3.07003549e+01,  1.49331433e+01,\n",
       "        6.86049900e+00,  2.85236913e+00,  9.50477882e-01,  1.12165354e-01,\n",
       "       -2.08509124e-01, -2.91153216e-01])"
      ]
     },
     "execution_count": 432,
     "metadata": {},
     "output_type": "execute_result"
    }
   ],
   "source": [
    "stepAvg2"
   ]
  },
  {
   "cell_type": "code",
   "execution_count": null,
   "id": "885e2385",
   "metadata": {},
   "outputs": [],
   "source": [
    "#eStepL, eDistL = scanProbEmission(numRuns = 1000, probOfTrap = 0)"
   ]
  },
  {
   "cell_type": "code",
   "execution_count": 378,
   "id": "750ce193",
   "metadata": {},
   "outputs": [],
   "source": [
    "\n",
    "# # plt.plot(np.log10(pVal), np.log10(eDistL))"
   ]
  },
  {
   "cell_type": "code",
   "execution_count": 379,
   "id": "ad854d1d",
   "metadata": {},
   "outputs": [],
   "source": [
    "# plt.plot(np.log10(pVal), np.log10(eStepL))"
   ]
  },
  {
   "cell_type": "code",
   "execution_count": 406,
   "id": "d7be6697",
   "metadata": {
    "scrolled": false
   },
   "outputs": [
    {
     "data": {
      "text/plain": [
       "[<matplotlib.lines.Line2D at 0x2a525f75400>]"
      ]
     },
     "execution_count": 406,
     "metadata": {},
     "output_type": "execute_result"
    },
    {
     "data": {
      "image/png": "[encoded data removed]",
      "text/plain": [
       "<Figure size 432x288 with 1 Axes>"
      ]
     },
     "metadata": {
      "needs_background": "light"
     },
     "output_type": "display_data"
    }
   ],
   "source": [
    "plt.plot(np.log10(pVal), np.log10(stepL))\n",
    "plt.plot(np.log10(pVal),  np.log10(stepAvg))"
   ]
  },
  {
   "cell_type": "code",
   "execution_count": 355,
   "id": "23ed82cb",
   "metadata": {},
   "outputs": [
    {
     "data": {
      "text/plain": [
       "[<matplotlib.lines.Line2D at 0x2a525ca3d60>]"
      ]
     },
     "execution_count": 355,
     "metadata": {},
     "output_type": "execute_result"
    },
    {
     "data": {
      "image/png": "[encoded data removed]",
      "text/plain": [
       "<Figure size 432x288 with 1 Axes>"
      ]
     },
     "metadata": {
      "needs_background": "light"
     },
     "output_type": "display_data"
    }
   ],
   "source": [
    "plt.plot(np.log10(pVal), np.log10(distL))"
   ]
  },
  {
   "cell_type": "code",
   "execution_count": 370,
   "id": "ff64a75e",
   "metadata": {},
   "outputs": [],
   "source": []
  },
  {
   "cell_type": "code",
   "execution_count": 363,
   "id": "7f29d887",
   "metadata": {},
   "outputs": [
    {
     "data": {
      "text/plain": [
       "array([479.00643788, 253.07931403, 133.59714464,  70.40814865,\n",
       "        36.98917958,  19.31277999,   9.95906837,   5.000436  ,\n",
       "         2.34778282,   0.76562077])"
      ]
     },
     "execution_count": 363,
     "metadata": {},
     "output_type": "execute_result"
    }
   ],
   "source": [
    "stepAvg"
   ]
  },
  {
   "cell_type": "code",
   "execution_count": 301,
   "id": "9285da35",
   "metadata": {},
   "outputs": [],
   "source": [
    "from sklearn.linear_model import LinearRegression"
   ]
  },
  {
   "cell_type": "code",
   "execution_count": null,
   "id": "9b29e40f",
   "metadata": {},
   "outputs": [],
   "source": [
    "x = np.array(np.log10(pVal)).reshape((-1, 1))\n",
    "dist = np.array(np.log10(distL))\n",
    "steps = np.array(np.log10(stepL))"
   ]
  },
  {
   "cell_type": "code",
   "execution_count": null,
   "id": "69b576f2",
   "metadata": {},
   "outputs": [],
   "source": [
    "linFit = LinearRegression()"
   ]
  },
  {
   "cell_type": "code",
   "execution_count": null,
   "id": "e6b3f272",
   "metadata": {},
   "outputs": [],
   "source": [
    "linFit.fit(x,dist)\n",
    "print(linFit.score(x,dist), linFit.intercept_, linFit.coef_)"
   ]
  },
  {
   "cell_type": "code",
   "execution_count": null,
   "id": "c3930b0b",
   "metadata": {},
   "outputs": [],
   "source": [
    "linFit.fit(x, steps)\n",
    "print(linFit.score(x,steps), linFit.intercept_, linFit.coef_)"
   ]
  },
  {
   "cell_type": "code",
   "execution_count": null,
   "id": "ae7f0d31",
   "metadata": {},
   "outputs": [],
   "source": [
    "np.histogram(stepL)"
   ]
  },
  {
   "cell_type": "markdown",
   "id": "056854f1",
   "metadata": {},
   "source": [
    "1. We could do more general N dimensions/compare it \n",
    "2. Heat map 2d of particle travel distance\n",
    "3. emission as well as absorption as a walker destruction method\n",
    "4. how many runs do you need \n",
    "5. We could also add line of fit and calculate eqn from slope of log log plot\n",
    "6. Connect to diffusion\n",
    "7. Trapping death prob non-1\n",
    "8. p of return to origin\n",
    "9. How much overlapping vs non - overlapping occurs\n"
   ]
  },
  {
   "cell_type": "markdown",
   "id": "d9cdccfd",
   "metadata": {},
   "source": [
    "1. Start at origin\n",
    "Repeat Process:\n",
    "2. Step 1 unit step in any direction (6 choices)\n",
    "3. You check whether that directions a trap (trap generated w/ prob p unless that cell is a \"safe cell\")\n",
    "4. If its not a trap then you add that cell to a dictionary of \"safe cells\"\n",
    "5. if its not a trap repeat\n",
    "6. If it is a trap end and return distance and steps traveled.\n",
    "\n"
   ]
  },
  {
   "cell_type": "code",
   "execution_count": null,
   "id": "78b1136c",
   "metadata": {},
   "outputs": [],
   "source": [
    "# steps "
   ]
  }
 ],
 "metadata": {
  "kernelspec": {
   "display_name": "Python 3 (ipykernel)",
   "language": "python",
   "name": "python3"
  },
  "language_info": {
   "codemirror_mode": {
    "name": "ipython",
    "version": 3
   },
   "file_extension": ".py",
   "mimetype": "text/x-python",
   "name": "python",
   "nbconvert_exporter": "python",
   "pygments_lexer": "ipython3",
   "version": "3.8.7"
  }
 },
 "nbformat": 4,
 "nbformat_minor": 5
}

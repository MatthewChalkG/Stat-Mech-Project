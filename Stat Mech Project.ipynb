{
 "cells": [
  {
   "cell_type": "code",
   "execution_count": 1,
   "id": "d1be0ac6",
   "metadata": {},
   "outputs": [],
   "source": [
    "import math\n",
    "import numpy as np\n",
    "import matplotlib.pyplot as plt\n",
    "import pandas as pd"
   ]
  },
  {
   "cell_type": "code",
   "execution_count": 2,
   "id": "1e22ca7a",
   "metadata": {},
   "outputs": [],
   "source": [
    "# 0 empty, 1 trap\n",
    "# initialize\n",
    "def startWalk():\n",
    "    grid = {}\n",
    "    grid[(0,0,0)] = 0\n",
    "    currentLoc = (0, 0, 0)\n",
    "    steps = 0\n",
    "    end = False\n",
    "    deathReason = None\n",
    "    return grid, currentLoc, steps, end, deathReason"
   ]
  },
  {
   "cell_type": "code",
   "execution_count": 3,
   "id": "7e2fcae3",
   "metadata": {},
   "outputs": [],
   "source": [
    "# first step\n",
    "def oneStep(steps, grid, currentLoc, probOfTrap, end, deathReason, probOfEmission, dimensions):\n",
    "    steps+=1\n",
    "    directionsList = [\"x\", \"y\", \"z\"]\n",
    "    direction = np.random.choice(directionsList[:dimensions])\n",
    "    forwardOrBack = np.random.choice([-1, 1])\n",
    "    if direction == \"x\":\n",
    "        newLoc = (currentLoc[0] + forwardOrBack, currentLoc[1], currentLoc[2])\n",
    "    elif direction == \"y\":\n",
    "        newLoc = (currentLoc[0] , currentLoc[1]+forwardOrBack, currentLoc[2])\n",
    "    else:\n",
    "        newLoc = (currentLoc[0] , currentLoc[1], currentLoc[2]+forwardOrBack)\n",
    "    \n",
    "    emission = np.random.choice([0, 1], p = [1-probOfEmission, probOfEmission])\n",
    "    \n",
    "    if emission == 0: # no emission\n",
    "        if newLoc in grid:\n",
    "            pass\n",
    "        else:\n",
    "            trap = np.random.choice([0, 1], p = [1-probOfTrap, probOfTrap])\n",
    "            grid[newLoc] = trap\n",
    "\n",
    "            if trap == 1:\n",
    "                end = True\n",
    "                deathReason = \"trap\"\n",
    "    \n",
    "    else:\n",
    "        end = True\n",
    "        deathReason = \"emission\"\n",
    "    \n",
    "    \n",
    "    \n",
    "    return steps, grid, newLoc, end, deathReason"
   ]
  },
  {
   "cell_type": "code",
   "execution_count": 4,
   "id": "9f67fded",
   "metadata": {},
   "outputs": [],
   "source": [
    "def walkUntilTrap(probOfTrap, probOfEmission, dimensions):\n",
    "    \n",
    "    grid, currentLoc, steps, end, deathReason = startWalk()\n",
    "    while end == False:\n",
    "        steps, grid, currentLoc, end, deathReason =  oneStep(steps, grid, currentLoc, probOfTrap, end, deathReason, probOfEmission, dimensions)\n",
    "    return steps, grid, currentLoc, deathReason"
   ]
  },
  {
   "cell_type": "code",
   "execution_count": 5,
   "id": "a73932cc",
   "metadata": {},
   "outputs": [],
   "source": [
    "def createDistribution(numRuns, probOfTrap, probOfEmission, dimensions):\n",
    "    steps = []\n",
    "    distance = []\n",
    "    deathReasons = []\n",
    "    for i in range(numRuns):\n",
    "        result = walkUntilTrap(probOfTrap, probOfEmission, dimensions)\n",
    "        steps += [result[0]]\n",
    "        distance += [np.sqrt(result[2][0]**2 + result[2][1]**2 + result[2][2]**2)]\n",
    "        deathReasons += [result[3]]\n",
    "    return steps, distance, deathReasons"
   ]
  },
  {
   "cell_type": "code",
   "execution_count": 6,
   "id": "8a17cdf7",
   "metadata": {},
   "outputs": [],
   "source": [
    "steps, distance, deathReasons = createDistribution(10, .01, .05, 3)"
   ]
  },
  {
   "cell_type": "code",
   "execution_count": 7,
   "id": "ea4022b0",
   "metadata": {
    "scrolled": true
   },
   "outputs": [
    {
     "data": {
      "text/plain": [
       "['emission',\n",
       " 'emission',\n",
       " 'emission',\n",
       " 'emission',\n",
       " 'trap',\n",
       " 'emission',\n",
       " 'emission',\n",
       " 'emission',\n",
       " 'emission',\n",
       " 'emission']"
      ]
     },
     "execution_count": 7,
     "metadata": {},
     "output_type": "execute_result"
    }
   ],
   "source": [
    "deathReasons"
   ]
  },
  {
   "cell_type": "code",
   "execution_count": 8,
   "id": "e037bcd9",
   "metadata": {},
   "outputs": [
    {
     "data": {
      "text/plain": [
       "13.0"
      ]
     },
     "execution_count": 8,
     "metadata": {},
     "output_type": "execute_result"
    }
   ],
   "source": [
    "np.mean(steps)"
   ]
  },
  {
   "cell_type": "code",
   "execution_count": 21,
   "id": "83edaae0",
   "metadata": {},
   "outputs": [],
   "source": [
    "def scanProbTrap(probOfEmission = .9, numProbs = 10, numRuns = 100, dimensions = 3):\n",
    "    pVals = np.logspace(-2.5,-.01, numProbs)\n",
    "    meanStepsL = []\n",
    "    meanDistanceL = []\n",
    "    for p in pVals:\n",
    "        steps, distance, deathReasons = createDistribution(numRuns, p, probOfEmission, dimensions)\n",
    "        meanStepsL += [np.mean(steps)]\n",
    "        meanDistanceL += [np.mean(distance)]\n",
    "    \n",
    "    return meanStepsL, meanDistanceL\n",
    "\n",
    "def scanProbEmission(probOfTrap = .1, numProbs = 10, numRuns = 100):\n",
    "    pVals = np.logspace(-3,-.01, numProbs)\n",
    "    meanStepsL = []\n",
    "    meanDistanceL = []\n",
    "    for p in pVals:\n",
    "        steps, distance, deathReasons = createDistribution(numRuns, probOfTrap, p)\n",
    "        meanStepsL += [np.mean(steps)]\n",
    "        meanDistanceL += [np.mean(distance)]\n",
    "    return meanStepsL, meanDistanceL"
   ]
  },
  {
   "cell_type": "code",
   "execution_count": 45,
   "id": "367714ae",
   "metadata": {},
   "outputs": [],
   "source": [
    "steps, distance, deathReasons = createDistribution(10000, 0.99, 0, 1)"
   ]
  },
  {
   "cell_type": "code",
   "execution_count": 46,
   "id": "407f4742",
   "metadata": {},
   "outputs": [
    {
     "data": {
      "text/plain": [
       "1.0173"
      ]
     },
     "execution_count": 46,
     "metadata": {},
     "output_type": "execute_result"
    }
   ],
   "source": [
    "np.mean(steps)"
   ]
  },
  {
   "cell_type": "code",
   "execution_count": 49,
   "id": "8df72504",
   "metadata": {},
   "outputs": [],
   "source": [
    "numProbs = 20\n",
    "#stepL1, distL1 = scanProbTrap(probOfEmission = 0, numRuns = 10, numProbs = numProbs, dimensions = 1)\n",
    "#stepL2, distL2 = scanProbTrap(probOfEmission = 0, numRuns = 1, numProbs = numProbs, dimensions = 2)\n",
    "stepL3, distL3 = scanProbTrap(probOfEmission = 0, numRuns = 200, numProbs = numProbs, dimensions = 4)\n",
    "pVal = np.logspace(-3,-.01, numProbs)\n",
    "\n",
    "stepAvg1 = (1-pVal)/pVal**2\n",
    "\n",
    "C = .77216\n",
    "stepAvg2 = 1/(np.pi *pVal) *(-np.log(np.pi*pVal) + 1  - C)\n",
    "\n",
    "F = .340537\n",
    "stepAvg3 = pVal * (1-F)/(1-(1-pVal)**(1-F))**2\n",
    "\n",
    "\n"
   ]
  },
  {
   "cell_type": "code",
   "execution_count": 50,
   "id": "3bb85757",
   "metadata": {},
   "outputs": [
    {
     "data": {
      "text/plain": [
       "[<matplotlib.lines.Line2D at 0x23ff9443910>]"
      ]
     },
     "execution_count": 50,
     "metadata": {},
     "output_type": "execute_result"
    },
    {
     "data": {
      "image/png": "[encoded data removed]",
      "text/plain": [
       "<Figure size 432x288 with 1 Axes>"
      ]
     },
     "metadata": {
      "needs_background": "light"
     },
     "output_type": "display_data"
    }
   ],
   "source": [
    "plt.plot(np.log10(pVal), np.log10(stepL3))\n",
    "plt.plot(np.log10(pVal),  np.log10(stepAvg3))"
   ]
  },
  {
   "cell_type": "code",
   "execution_count": 12,
   "id": "fcdd576d",
   "metadata": {},
   "outputs": [
    {
     "data": {
      "text/plain": [
       "array([ 1.90695168e+03,  1.24702523e+03,  8.12095475e+02,  5.26353925e+02,\n",
       "        3.39289839e+02,  2.17315255e+02,  1.38144059e+02,  8.70246051e+01,\n",
       "        5.42184043e+01,  3.33154528e+01,  2.01105312e+01,  1.18551007e+01,\n",
       "        6.76028366e+00,  3.66740764e+00,  1.83016755e+00,  7.70990566e-01,\n",
       "        1.86620417e-01, -1.13729607e-01, -2.48730973e-01, -2.91153216e-01])"
      ]
     },
     "execution_count": 12,
     "metadata": {},
     "output_type": "execute_result"
    }
   ],
   "source": [
    "stepAvg2"
   ]
  },
  {
   "cell_type": "code",
   "execution_count": 13,
   "id": "885e2385",
   "metadata": {},
   "outputs": [],
   "source": [
    "#eStepL, eDistL = scanProbEmission(numRuns = 1000, probOfTrap = 0)"
   ]
  },
  {
   "cell_type": "code",
   "execution_count": 14,
   "id": "750ce193",
   "metadata": {},
   "outputs": [],
   "source": [
    "\n",
    "# # plt.plot(np.log10(pVal), np.log10(eDistL))"
   ]
  },
  {
   "cell_type": "code",
   "execution_count": 15,
   "id": "ad854d1d",
   "metadata": {},
   "outputs": [],
   "source": [
    "# plt.plot(np.log10(pVal), np.log10(eStepL))"
   ]
  },
  {
   "cell_type": "code",
   "execution_count": 16,
   "id": "d7be6697",
   "metadata": {
    "scrolled": false
   },
   "outputs": [
    {
     "ename": "NameError",
     "evalue": "name 'stepL' is not defined",
     "output_type": "error",
     "traceback": [
      "\u001b[1;31m---------------------------------------------------------------------------\u001b[0m",
      "\u001b[1;31mNameError\u001b[0m                                 Traceback (most recent call last)",
      "Input \u001b[1;32mIn [16]\u001b[0m, in \u001b[0;36m<cell line: 1>\u001b[1;34m()\u001b[0m\n\u001b[1;32m----> 1\u001b[0m plt\u001b[38;5;241m.\u001b[39mplot(np\u001b[38;5;241m.\u001b[39mlog10(pVal), np\u001b[38;5;241m.\u001b[39mlog10(\u001b[43mstepL\u001b[49m))\n\u001b[0;32m      2\u001b[0m plt\u001b[38;5;241m.\u001b[39mplot(np\u001b[38;5;241m.\u001b[39mlog10(pVal),  np\u001b[38;5;241m.\u001b[39mlog10(stepAvg))\n",
      "\u001b[1;31mNameError\u001b[0m: name 'stepL' is not defined"
     ]
    }
   ],
   "source": [
    "plt.plot(np.log10(pVal), np.log10(stepL))\n",
    "plt.plot(np.log10(pVal),  np.log10(stepAvg))"
   ]
  },
  {
   "cell_type": "code",
   "execution_count": null,
   "id": "23ed82cb",
   "metadata": {},
   "outputs": [],
   "source": [
    "plt.plot(np.log10(pVal), np.log10(distL))"
   ]
  },
  {
   "cell_type": "code",
   "execution_count": null,
   "id": "ff64a75e",
   "metadata": {},
   "outputs": [],
   "source": []
  },
  {
   "cell_type": "code",
   "execution_count": null,
   "id": "7f29d887",
   "metadata": {},
   "outputs": [],
   "source": [
    "stepAvg"
   ]
  },
  {
   "cell_type": "code",
   "execution_count": null,
   "id": "9285da35",
   "metadata": {},
   "outputs": [],
   "source": [
    "from sklearn.linear_model import LinearRegression"
   ]
  },
  {
   "cell_type": "code",
   "execution_count": null,
   "id": "9b29e40f",
   "metadata": {},
   "outputs": [],
   "source": [
    "x = np.array(np.log10(pVal)).reshape((-1, 1))\n",
    "dist = np.array(np.log10(distL))\n",
    "steps = np.array(np.log10(stepL))"
   ]
  },
  {
   "cell_type": "code",
   "execution_count": null,
   "id": "69b576f2",
   "metadata": {},
   "outputs": [],
   "source": [
    "linFit = LinearRegression()"
   ]
  },
  {
   "cell_type": "code",
   "execution_count": null,
   "id": "e6b3f272",
   "metadata": {},
   "outputs": [],
   "source": [
    "linFit.fit(x,dist)\n",
    "print(linFit.score(x,dist), linFit.intercept_, linFit.coef_)"
   ]
  },
  {
   "cell_type": "code",
   "execution_count": null,
   "id": "c3930b0b",
   "metadata": {},
   "outputs": [],
   "source": [
    "linFit.fit(x, steps)\n",
    "print(linFit.score(x,steps), linFit.intercept_, linFit.coef_)"
   ]
  },
  {
   "cell_type": "code",
   "execution_count": null,
   "id": "ae7f0d31",
   "metadata": {},
   "outputs": [],
   "source": [
    "np.histogram(stepL)"
   ]
  },
  {
   "cell_type": "markdown",
   "id": "056854f1",
   "metadata": {},
   "source": [
    "1. We could do more general N dimensions/compare it \n",
    "2. Heat map 2d of particle travel distance\n",
    "3. emission as well as absorption as a walker destruction method\n",
    "4. how many runs do you need \n",
    "5. We could also add line of fit and calculate eqn from slope of log log plot\n",
    "6. Connect to diffusion\n",
    "7. Trapping death prob non-1\n",
    "8. p of return to origin\n",
    "9. How much overlapping vs non - overlapping occurs\n"
   ]
  },
  {
   "cell_type": "markdown",
   "id": "d9cdccfd",
   "metadata": {},
   "source": [
    "1. Start at origin\n",
    "Repeat Process:\n",
    "2. Step 1 unit step in any direction (6 choices)\n",
    "3. You check whether that directions a trap (trap generated w/ prob p unless that cell is a \"safe cell\")\n",
    "4. If its not a trap then you add that cell to a dictionary of \"safe cells\"\n",
    "5. if its not a trap repeat\n",
    "6. If it is a trap end and return distance and steps traveled.\n",
    "\n"
   ]
  },
  {
   "cell_type": "code",
   "execution_count": null,
   "id": "78b1136c",
   "metadata": {},
   "outputs": [],
   "source": [
    "# steps "
   ]
  }
 ],
 "metadata": {
  "kernelspec": {
   "display_name": "Python 3 (ipykernel)",
   "language": "python",
   "name": "python3"
  },
  "language_info": {
   "codemirror_mode": {
    "name": "ipython",
    "version": 3
   },
   "file_extension": ".py",
   "mimetype": "text/x-python",
   "name": "python",
   "nbconvert_exporter": "python",
   "pygments_lexer": "ipython3",
   "version": "3.8.7"
  }
 },
 "nbformat": 4,
 "nbformat_minor": 5
}

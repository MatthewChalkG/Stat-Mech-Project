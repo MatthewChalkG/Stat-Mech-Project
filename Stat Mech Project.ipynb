{
 "cells": [
  {
   "cell_type": "code",
   "execution_count": 1,
   "id": "d1be0ac6",
   "metadata": {},
   "outputs": [],
   "source": [
    "import math\n",
    "import numpy as np\n",
    "import matplotlib.pyplot as plt\n",
    "import pandas as pd"
   ]
  },
  {
   "cell_type": "code",
   "execution_count": 2,
   "id": "1e22ca7a",
   "metadata": {},
   "outputs": [],
   "source": [
    "# 0 empty, 1 trap\n",
    "# initialize\n",
    "def startWalk():\n",
    "    grid = {}\n",
    "    grid[(0,0,0)] = 0\n",
    "    currentLoc = (0, 0, 0)\n",
    "    steps = 0\n",
    "    end = False\n",
    "    deathReason = None\n",
    "    return grid, currentLoc, steps, end, deathReason"
   ]
  },
  {
   "cell_type": "code",
   "execution_count": 3,
   "id": "7e2fcae3",
   "metadata": {},
   "outputs": [],
   "source": [
    "# first step\n",
    "def oneStep(steps, grid, currentLoc, probOfTrap, end, deathReason, probOfEmission, dimensions):\n",
    "    steps+=1\n",
    "    directionsList = [\"x\", \"y\", \"z\"]\n",
    "    direction = np.random.choice(directionsList[:dimensions])\n",
    "    forwardOrBack = np.random.choice([-1, 1])\n",
    "    if direction == \"x\":\n",
    "        newLoc = (currentLoc[0] + forwardOrBack, currentLoc[1], currentLoc[2])\n",
    "    elif direction == \"y\":\n",
    "        newLoc = (currentLoc[0] , currentLoc[1]+forwardOrBack, currentLoc[2])\n",
    "    else:\n",
    "        newLoc = (currentLoc[0] , currentLoc[1], currentLoc[2]+forwardOrBack)\n",
    "    \n",
    "    emission = np.random.choice([0, 1], p = [1-probOfEmission, probOfEmission])\n",
    "    \n",
    "    if emission == 0: # no emission\n",
    "        if newLoc in grid:\n",
    "            pass\n",
    "        else:\n",
    "            trap = np.random.choice([0, 1], p = [1-probOfTrap, probOfTrap])\n",
    "            grid[newLoc] = trap\n",
    "\n",
    "            if trap == 1:\n",
    "                end = True\n",
    "                deathReason = \"trap\"\n",
    "    \n",
    "    else:\n",
    "        end = True\n",
    "        deathReason = \"emission\"\n",
    "    \n",
    "    \n",
    "    \n",
    "    return steps, grid, newLoc, end, deathReason"
   ]
  },
  {
   "cell_type": "code",
   "execution_count": 4,
   "id": "9f67fded",
   "metadata": {},
   "outputs": [],
   "source": [
    "def walkUntilTrap(probOfTrap, probOfEmission, dimensions):\n",
    "    \n",
    "    grid, currentLoc, steps, end, deathReason = startWalk()\n",
    "    while end == False:\n",
    "        steps, grid, currentLoc, end, deathReason =  oneStep(steps, grid, currentLoc, probOfTrap, end, deathReason, probOfEmission, dimensions)\n",
    "    return steps, grid, currentLoc, deathReason"
   ]
  },
  {
   "cell_type": "code",
   "execution_count": 68,
   "id": "a73932cc",
   "metadata": {},
   "outputs": [],
   "source": [
    "def createDistribution(numRuns, probOfTrap, probOfEmission, dimensions):\n",
    "    steps = []\n",
    "    distance = []\n",
    "    deathReasons = []\n",
    "    endSquare = []\n",
    "    for i in range(numRuns):\n",
    "        result = walkUntilTrap(probOfTrap, probOfEmission, dimensions)\n",
    "        steps += [result[0]]\n",
    "        distance += [np.sqrt(result[2][0]**2 + result[2][1]**2 + result[2][2]**2)]\n",
    "        deathReasons += [result[3]]\n",
    "        endSquare += [result[2]]\n",
    "    return steps, distance, deathReasons, endSquare"
   ]
  },
  {
   "cell_type": "code",
   "execution_count": 69,
   "id": "83edaae0",
   "metadata": {},
   "outputs": [],
   "source": [
    "def scanProbTrap(minP =-2.5, probOfEmission = .9, numProbs = 10, numRuns = 100, dimensions = 3):\n",
    "    pVals = np.logspace(minP, -.01, numProbs)\n",
    "    meanStepsL = []\n",
    "    meanDistanceL = []\n",
    "    for p in pVals:\n",
    "        steps, distance, deathReasons, endSquare = createDistribution(numRuns, p, probOfEmission, dimensions)\n",
    "        meanStepsL += [np.mean(steps)]\n",
    "        meanDistanceL += [np.mean(distance)]\n",
    "    \n",
    "    return meanStepsL, meanDistanceL\n",
    "\n",
    "def scanProbEmission(minP = -2.5, minprobOfTrap = .1, numProbs = 10, numRuns = 100):\n",
    "    pVals = np.logspace(minP,-.01, numProbs)\n",
    "    meanStepsL = []\n",
    "    meanDistanceL = []\n",
    "    for p in pVals:\n",
    "        steps, distance, deathReasons = createDistribution(numRuns, probOfTrap, p)\n",
    "        meanStepsL += [np.mean(steps)] \n",
    "        meanDistanceL += [np.mean(distance)]\n",
    "    return meanStepsL, meanDistanceL"
   ]
  },
  {
   "cell_type": "code",
   "execution_count": 63,
   "id": "8df72504",
   "metadata": {},
   "outputs": [
    {
     "ename": "KeyboardInterrupt",
     "evalue": "",
     "output_type": "error",
     "traceback": [
      "\u001b[1;31m---------------------------------------------------------------------------\u001b[0m",
      "\u001b[1;31mKeyboardInterrupt\u001b[0m                         Traceback (most recent call last)",
      "Input \u001b[1;32mIn [63]\u001b[0m, in \u001b[0;36m<cell line: 4>\u001b[1;34m()\u001b[0m\n\u001b[0;32m      1\u001b[0m numProbs \u001b[38;5;241m=\u001b[39m \u001b[38;5;241m10\u001b[39m\n\u001b[0;32m      2\u001b[0m minP \u001b[38;5;241m=\u001b[39m \u001b[38;5;241m-\u001b[39m\u001b[38;5;241m3\u001b[39m\n\u001b[1;32m----> 4\u001b[0m stepL1, distL1 \u001b[38;5;241m=\u001b[39m \u001b[43mscanProbTrap\u001b[49m\u001b[43m(\u001b[49m\u001b[43mminP\u001b[49m\u001b[43m \u001b[49m\u001b[38;5;241;43m=\u001b[39;49m\u001b[43m \u001b[49m\u001b[43mminP\u001b[49m\u001b[43m,\u001b[49m\u001b[43m \u001b[49m\u001b[43mprobOfEmission\u001b[49m\u001b[43m \u001b[49m\u001b[38;5;241;43m=\u001b[39;49m\u001b[43m \u001b[49m\u001b[38;5;241;43m0\u001b[39;49m\u001b[43m,\u001b[49m\u001b[43m \u001b[49m\u001b[43mnumRuns\u001b[49m\u001b[43m \u001b[49m\u001b[38;5;241;43m=\u001b[39;49m\u001b[43m \u001b[49m\u001b[38;5;241;43m10\u001b[39;49m\u001b[43m,\u001b[49m\u001b[43m \u001b[49m\u001b[43mnumProbs\u001b[49m\u001b[43m \u001b[49m\u001b[38;5;241;43m=\u001b[39;49m\u001b[43m \u001b[49m\u001b[43mnumProbs\u001b[49m\u001b[43m,\u001b[49m\u001b[43m \u001b[49m\u001b[43mdimensions\u001b[49m\u001b[43m \u001b[49m\u001b[38;5;241;43m=\u001b[39;49m\u001b[43m \u001b[49m\u001b[38;5;241;43m1\u001b[39;49m\u001b[43m)\u001b[49m\n\u001b[0;32m      5\u001b[0m stepL2, distL2 \u001b[38;5;241m=\u001b[39m scanProbTrap(minP \u001b[38;5;241m=\u001b[39m minP, probOfEmission \u001b[38;5;241m=\u001b[39m \u001b[38;5;241m0\u001b[39m, numRuns \u001b[38;5;241m=\u001b[39m \u001b[38;5;241m50\u001b[39m, numProbs \u001b[38;5;241m=\u001b[39m numProbs, dimensions \u001b[38;5;241m=\u001b[39m \u001b[38;5;241m2\u001b[39m)\n\u001b[0;32m      6\u001b[0m stepL3, distL3 \u001b[38;5;241m=\u001b[39m scanProbTrap(minP \u001b[38;5;241m=\u001b[39m minP, probOfEmission \u001b[38;5;241m=\u001b[39m \u001b[38;5;241m0\u001b[39m, numRuns \u001b[38;5;241m=\u001b[39m \u001b[38;5;241m200\u001b[39m, numProbs \u001b[38;5;241m=\u001b[39m numProbs, dimensions \u001b[38;5;241m=\u001b[39m \u001b[38;5;241m3\u001b[39m)\n",
      "Input \u001b[1;32mIn [49]\u001b[0m, in \u001b[0;36mscanProbTrap\u001b[1;34m(minP, probOfEmission, numProbs, numRuns, dimensions)\u001b[0m\n\u001b[0;32m      4\u001b[0m meanDistanceL \u001b[38;5;241m=\u001b[39m []\n\u001b[0;32m      5\u001b[0m \u001b[38;5;28;01mfor\u001b[39;00m p \u001b[38;5;129;01min\u001b[39;00m pVals:\n\u001b[1;32m----> 6\u001b[0m     steps, distance, deathReasons \u001b[38;5;241m=\u001b[39m \u001b[43mcreateDistribution\u001b[49m\u001b[43m(\u001b[49m\u001b[43mnumRuns\u001b[49m\u001b[43m,\u001b[49m\u001b[43m \u001b[49m\u001b[43mp\u001b[49m\u001b[43m,\u001b[49m\u001b[43m \u001b[49m\u001b[43mprobOfEmission\u001b[49m\u001b[43m,\u001b[49m\u001b[43m \u001b[49m\u001b[43mdimensions\u001b[49m\u001b[43m)\u001b[49m\n\u001b[0;32m      7\u001b[0m     meanStepsL \u001b[38;5;241m+\u001b[39m\u001b[38;5;241m=\u001b[39m [np\u001b[38;5;241m.\u001b[39mmean(steps)]\n\u001b[0;32m      8\u001b[0m     meanDistanceL \u001b[38;5;241m+\u001b[39m\u001b[38;5;241m=\u001b[39m [np\u001b[38;5;241m.\u001b[39mmean(distance)]\n",
      "Input \u001b[1;32mIn [5]\u001b[0m, in \u001b[0;36mcreateDistribution\u001b[1;34m(numRuns, probOfTrap, probOfEmission, dimensions)\u001b[0m\n\u001b[0;32m      4\u001b[0m deathReasons \u001b[38;5;241m=\u001b[39m []\n\u001b[0;32m      5\u001b[0m \u001b[38;5;28;01mfor\u001b[39;00m i \u001b[38;5;129;01min\u001b[39;00m \u001b[38;5;28mrange\u001b[39m(numRuns):\n\u001b[1;32m----> 6\u001b[0m     result \u001b[38;5;241m=\u001b[39m \u001b[43mwalkUntilTrap\u001b[49m\u001b[43m(\u001b[49m\u001b[43mprobOfTrap\u001b[49m\u001b[43m,\u001b[49m\u001b[43m \u001b[49m\u001b[43mprobOfEmission\u001b[49m\u001b[43m,\u001b[49m\u001b[43m \u001b[49m\u001b[43mdimensions\u001b[49m\u001b[43m)\u001b[49m\n\u001b[0;32m      7\u001b[0m     steps \u001b[38;5;241m+\u001b[39m\u001b[38;5;241m=\u001b[39m [result[\u001b[38;5;241m0\u001b[39m]]\n\u001b[0;32m      8\u001b[0m     distance \u001b[38;5;241m+\u001b[39m\u001b[38;5;241m=\u001b[39m [np\u001b[38;5;241m.\u001b[39msqrt(result[\u001b[38;5;241m2\u001b[39m][\u001b[38;5;241m0\u001b[39m]\u001b[38;5;241m*\u001b[39m\u001b[38;5;241m*\u001b[39m\u001b[38;5;241m2\u001b[39m \u001b[38;5;241m+\u001b[39m result[\u001b[38;5;241m2\u001b[39m][\u001b[38;5;241m1\u001b[39m]\u001b[38;5;241m*\u001b[39m\u001b[38;5;241m*\u001b[39m\u001b[38;5;241m2\u001b[39m \u001b[38;5;241m+\u001b[39m result[\u001b[38;5;241m2\u001b[39m][\u001b[38;5;241m2\u001b[39m]\u001b[38;5;241m*\u001b[39m\u001b[38;5;241m*\u001b[39m\u001b[38;5;241m2\u001b[39m)]\n",
      "Input \u001b[1;32mIn [4]\u001b[0m, in \u001b[0;36mwalkUntilTrap\u001b[1;34m(probOfTrap, probOfEmission, dimensions)\u001b[0m\n\u001b[0;32m      3\u001b[0m grid, currentLoc, steps, end, deathReason \u001b[38;5;241m=\u001b[39m startWalk()\n\u001b[0;32m      4\u001b[0m \u001b[38;5;28;01mwhile\u001b[39;00m end \u001b[38;5;241m==\u001b[39m \u001b[38;5;28;01mFalse\u001b[39;00m:\n\u001b[1;32m----> 5\u001b[0m     steps, grid, currentLoc, end, deathReason \u001b[38;5;241m=\u001b[39m  \u001b[43moneStep\u001b[49m\u001b[43m(\u001b[49m\u001b[43msteps\u001b[49m\u001b[43m,\u001b[49m\u001b[43m \u001b[49m\u001b[43mgrid\u001b[49m\u001b[43m,\u001b[49m\u001b[43m \u001b[49m\u001b[43mcurrentLoc\u001b[49m\u001b[43m,\u001b[49m\u001b[43m \u001b[49m\u001b[43mprobOfTrap\u001b[49m\u001b[43m,\u001b[49m\u001b[43m \u001b[49m\u001b[43mend\u001b[49m\u001b[43m,\u001b[49m\u001b[43m \u001b[49m\u001b[43mdeathReason\u001b[49m\u001b[43m,\u001b[49m\u001b[43m \u001b[49m\u001b[43mprobOfEmission\u001b[49m\u001b[43m,\u001b[49m\u001b[43m \u001b[49m\u001b[43mdimensions\u001b[49m\u001b[43m)\u001b[49m\n\u001b[0;32m      6\u001b[0m \u001b[38;5;28;01mreturn\u001b[39;00m steps, grid, currentLoc, deathReason\n",
      "Input \u001b[1;32mIn [3]\u001b[0m, in \u001b[0;36moneStep\u001b[1;34m(steps, grid, currentLoc, probOfTrap, end, deathReason, probOfEmission, dimensions)\u001b[0m\n\u001b[0;32m     11\u001b[0m \u001b[38;5;28;01melse\u001b[39;00m:\n\u001b[0;32m     12\u001b[0m     newLoc \u001b[38;5;241m=\u001b[39m (currentLoc[\u001b[38;5;241m0\u001b[39m] , currentLoc[\u001b[38;5;241m1\u001b[39m], currentLoc[\u001b[38;5;241m2\u001b[39m]\u001b[38;5;241m+\u001b[39mforwardOrBack)\n\u001b[1;32m---> 14\u001b[0m emission \u001b[38;5;241m=\u001b[39m \u001b[43mnp\u001b[49m\u001b[38;5;241;43m.\u001b[39;49m\u001b[43mrandom\u001b[49m\u001b[38;5;241;43m.\u001b[39;49m\u001b[43mchoice\u001b[49m\u001b[43m(\u001b[49m\u001b[43m[\u001b[49m\u001b[38;5;241;43m0\u001b[39;49m\u001b[43m,\u001b[49m\u001b[43m \u001b[49m\u001b[38;5;241;43m1\u001b[39;49m\u001b[43m]\u001b[49m\u001b[43m,\u001b[49m\u001b[43m \u001b[49m\u001b[43mp\u001b[49m\u001b[43m \u001b[49m\u001b[38;5;241;43m=\u001b[39;49m\u001b[43m \u001b[49m\u001b[43m[\u001b[49m\u001b[38;5;241;43m1\u001b[39;49m\u001b[38;5;241;43m-\u001b[39;49m\u001b[43mprobOfEmission\u001b[49m\u001b[43m,\u001b[49m\u001b[43m \u001b[49m\u001b[43mprobOfEmission\u001b[49m\u001b[43m]\u001b[49m\u001b[43m)\u001b[49m\n\u001b[0;32m     16\u001b[0m \u001b[38;5;28;01mif\u001b[39;00m emission \u001b[38;5;241m==\u001b[39m \u001b[38;5;241m0\u001b[39m: \u001b[38;5;66;03m# no emission\u001b[39;00m\n\u001b[0;32m     17\u001b[0m     \u001b[38;5;28;01mif\u001b[39;00m newLoc \u001b[38;5;129;01min\u001b[39;00m grid:\n",
      "\u001b[1;31mKeyboardInterrupt\u001b[0m: "
     ]
    }
   ],
   "source": [
    "numProbs = 10\n",
    "minP = -3\n",
    "\n",
    "stepL1, distL1 = scanProbTrap(minP = minP, probOfEmission = 0, numRuns = 10, numProbs = numProbs, dimensions = 1)\n",
    "stepL2, distL2 = scanProbTrap(minP = minP, probOfEmission = 0, numRuns = 50, numProbs = numProbs, dimensions = 2)\n",
    "stepL3, distL3 = scanProbTrap(minP = minP, probOfEmission = 0, numRuns = 200, numProbs = numProbs, dimensions = 3)\n",
    "pVal = np.logspace(minP,-.01, numProbs)\n",
    "\n",
    "stepAvg1 = (1-pVal)/pVal**2\n",
    "\n",
    "C = .577216\n",
    "stepAvg2 = 1/(np.pi *pVal) *(-np.log(np.pi*pVal) + 1  - C)\n",
    "\n",
    "F = .340537\n",
    "stepAvg3 = pVal * (1-F)/(1-(1-pVal)**(1-F))**2\n",
    "\n",
    "\n"
   ]
  },
  {
   "cell_type": "code",
   "execution_count": null,
   "id": "3bb85757",
   "metadata": {
    "scrolled": true
   },
   "outputs": [],
   "source": [
    "plt.plot(np.log10(pVal), np.log10(stepL1), 'k+', label  = 'Simulation Results')\n",
    "plt.plot(np.log10(pVal),  np.log10(stepAvg1), label = 'Theoretical Prediction')\n",
    "plt.xlabel(\"Log Trap Density q\")\n",
    "plt.ylabel(\"Log Number of steps before trapped\")\n",
    "plt.title(\"Mean Steps Before Trap in One Dimension\")\n",
    "plt.legend()\n",
    "plt.show()"
   ]
  },
  {
   "cell_type": "code",
   "execution_count": null,
   "id": "4fcb15cf",
   "metadata": {},
   "outputs": [],
   "source": [
    "plt.plot(np.log10(pVal), np.log10(stepL3))\n",
    "plt.plot(np.log10(pVal), np.log10(distL3\n",
    "                                 ))"
   ]
  },
  {
   "cell_type": "code",
   "execution_count": null,
   "id": "5a7033af",
   "metadata": {},
   "outputs": [],
   "source": [
    "plt.plot(np.log10(pVal), np.log10(stepL2), label  = 'Simulation Results')\n",
    "plt.plot(np.log10(pVal),  np.log10(stepAvg2), label = 'Theoretical Prediction')\n",
    "plt.xlabel(\"Log Trap Density q\")\n",
    "plt.ylabel(\"Log Number of steps before trapped\")\n",
    "plt.title(\"Mean Steps Before Trap in Two Dimensions\")\n",
    "plt.legend()\n",
    "plt.show()"
   ]
  },
  {
   "cell_type": "code",
   "execution_count": null,
   "id": "9500344e",
   "metadata": {},
   "outputs": [],
   "source": [
    "plt.plot(np.log10(pVal), np.log10(stepL3), label  = 'Simulation Results')\n",
    "plt.plot(np.log10(pVal),  np.log10(stepAvg3), label = 'Theoretical Prediction')\n",
    "plt.xlabel(\"Log Trap Density q\")\n",
    "plt.ylabel(\"Log Number of steps before trapped\")\n",
    "plt.title(\"Mean Steps Before Trap in Three Dimensions\")\n",
    "plt.legend()\n",
    "plt.show()"
   ]
  },
  {
   "cell_type": "code",
   "execution_count": null,
   "id": "67835962",
   "metadata": {},
   "outputs": [],
   "source": [
    "plt.plot(np.log10(pVal), np.log10(distL1), label = \"1D\")\n",
    "plt.plot(np.log10(pVal), np.log10(distL2), label = \"2D\")\n",
    "plt.plot(np.log10(pVal), np.log10(distL3), label = \"3D\")\n",
    "plt.legend()\n",
    "plt.title(\"Mean Distance from Starting Position\")\n",
    "plt.xlabel(\"Log Trap Density q\")\n",
    "plt.ylabel(\"Log Mean Distance from Start\")\n",
    "plt.show()"
   ]
  },
  {
   "cell_type": "code",
   "execution_count": 38,
   "id": "750ce193",
   "metadata": {},
   "outputs": [
    {
     "data": {
      "text/plain": [
       "\"figure, axis = plt.subplots(1, 3)\\naxis[0].plot(np.log10(pVal), np.log10(stepL3), label  = 'Simulation Results')\\naxis[0].plot(np.log10(pVal),  np.log10(stepAvg3), label = 'Theoretical Prediction')\\naxis[0].legend()\\n\\naxis[0].plot(np.log10(pVal), np.log10(stepL3), label  = 'Simulation Results')\\naxis[0].plot(np.log10(pVal),  np.log10(stepAvg3), label = 'Theoretical Prediction')\""
      ]
     },
     "execution_count": 38,
     "metadata": {},
     "output_type": "execute_result"
    }
   ],
   "source": [
    "\"\"\"figure, axis = plt.subplots(1, 3)\n",
    "axis[0].plot(np.log10(pVal), np.log10(stepL3), label  = 'Simulation Results')\n",
    "axis[0].plot(np.log10(pVal),  np.log10(stepAvg3), label = 'Theoretical Prediction')\n",
    "axis[0].legend()\n",
    "\n",
    "axis[0].plot(np.log10(pVal), np.log10(stepL3), label  = 'Simulation Results')\n",
    "axis[0].plot(np.log10(pVal),  np.log10(stepAvg3), label = 'Theoretical Prediction')\"\"\""
   ]
  },
  {
   "cell_type": "code",
   "execution_count": 79,
   "id": "ad854d1d",
   "metadata": {},
   "outputs": [],
   "source": [
    "# steps, distance, deathReasons = createDistribution(10, .01, .05, 3)\n",
    "# np.mean(steps)\n",
    "#eStepL, eDistL = scanProbEmission(numRuns = 1000, probOfTrap = 0)\n",
    "# # plt.plot(np.log10(pVal), np.log10(eDistL))\n",
    "# plt.plot(np.log10(pVal), np.log10(eStepL))"
   ]
  },
  {
   "cell_type": "code",
   "execution_count": null,
   "id": "9285da35",
   "metadata": {},
   "outputs": [],
   "source": [
    "from sklearn.linear_model import LinearRegression"
   ]
  },
  {
   "cell_type": "code",
   "execution_count": null,
   "id": "9b29e40f",
   "metadata": {},
   "outputs": [],
   "source": [
    "x = np.array(np.log10(pVal)).reshape((-1, 1))\n",
    "dist = np.array(np.log10(distL))\n",
    "steps = np.array(np.log10(stepL))"
   ]
  },
  {
   "cell_type": "code",
   "execution_count": null,
   "id": "69b576f2",
   "metadata": {},
   "outputs": [],
   "source": [
    "linFit = LinearRegression()"
   ]
  },
  {
   "cell_type": "code",
   "execution_count": null,
   "id": "e6b3f272",
   "metadata": {},
   "outputs": [],
   "source": [
    "linFit.fit(x,dist)\n",
    "print(linFit.score(x,dist), linFit.intercept_, linFit.coef_)"
   ]
  },
  {
   "cell_type": "code",
   "execution_count": null,
   "id": "c3930b0b",
   "metadata": {},
   "outputs": [],
   "source": [
    "linFit.fit(x, steps)\n",
    "print(linFit.score(x,steps), linFit.intercept_, linFit.coef_)"
   ]
  },
  {
   "cell_type": "code",
   "execution_count": null,
   "id": "ae7f0d31",
   "metadata": {},
   "outputs": [],
   "source": [
    "np.histogram(stepL)"
   ]
  },
  {
   "cell_type": "markdown",
   "id": "056854f1",
   "metadata": {},
   "source": [
    "1. We could do more general N dimensions/compare it \n",
    "2. Heat map 2d of particle travel distance\n",
    "3. emission as well as absorption as a walker destruction method\n",
    "4. how many runs do you need \n",
    "5. We could also add line of fit and calculate eqn from slope of log log plot\n",
    "6. Connect to diffusion\n",
    "7. Trapping death prob non-1\n",
    "8. p of return to origin\n",
    "9. How much overlapping vs non - overlapping occurs\n"
   ]
  },
  {
   "cell_type": "markdown",
   "id": "d9cdccfd",
   "metadata": {},
   "source": [
    "1. Start at origin\n",
    "Repeat Process:\n",
    "2. Step 1 unit step in any direction (6 choices)\n",
    "3. You check whether that directions a trap (trap generated w/ prob p unless that cell is a \"safe cell\")\n",
    "4. If its not a trap then you add that cell to a dictionary of \"safe cells\"\n",
    "5. if its not a trap repeat\n",
    "6. If it is a trap end and return distance and steps traveled.\n",
    "\n"
   ]
  },
  {
   "cell_type": "code",
   "execution_count": 111,
   "id": "78b1136c",
   "metadata": {},
   "outputs": [],
   "source": [
    "# 1D - 10 spacing 2.5 1 run each 14 seconds"
   ]
  },
  {
   "cell_type": "code",
   "execution_count": 70,
   "id": "52b00925",
   "metadata": {},
   "outputs": [],
   "source": [
    "steps3, distance3, deathReason3, endSquare = createDistribution(1000, .01, 0, 3)"
   ]
  },
  {
   "cell_type": "code",
   "execution_count": 33,
   "id": "e707e76e",
   "metadata": {},
   "outputs": [
    {
     "data": {
      "image/png": "[encoded data removed]",
      "text/plain": [
       "<Figure size 432x288 with 1 Axes>"
      ]
     },
     "metadata": {
      "needs_background": "light"
     },
     "output_type": "display_data"
    }
   ],
   "source": [
    "plt.hist(steps3)\n",
    "plt.title(\"Distribution of Steps for Walkers in 3 Dimensions, q = 0.01\")\n",
    "plt.xlabel(\"Steps Traveled\")\n",
    "plt.ylabel(\"Count\")\n",
    "plt.show()"
   ]
  },
  {
   "cell_type": "code",
   "execution_count": 83,
   "id": "65ac3d53",
   "metadata": {},
   "outputs": [],
   "source": [
    "steps2, distance2, deathReason2, endSquare = createDistribution(1000, .01, 0, 2)"
   ]
  },
  {
   "cell_type": "code",
   "execution_count": 19,
   "id": "561589d6",
   "metadata": {},
   "outputs": [
    {
     "data": {
      "image/png": "[encoded data removed]",
      "text/plain": [
       "<Figure size 432x288 with 1 Axes>"
      ]
     },
     "metadata": {
      "needs_background": "light"
     },
     "output_type": "display_data"
    }
   ],
   "source": [
    "plt.hist((steps2))\n",
    "plt.title(\"Distribution of Steps for Walkers in 2 Dimensions, q = 0.01\")\n",
    "plt.xlabel(\"Steps Traveled\")\n",
    "plt.ylabel(\"Count\")\n",
    "plt.show()"
   ]
  },
  {
   "cell_type": "code",
   "execution_count": 151,
   "id": "f0e9dabf",
   "metadata": {},
   "outputs": [],
   "source": [
    "steps1, distance1, deathReason1, endSquare = createDistribution(100, .01, 0, 1)"
   ]
  },
  {
   "cell_type": "code",
   "execution_count": 154,
   "id": "fb3c9523",
   "metadata": {
    "scrolled": true
   },
   "outputs": [
    {
     "data": {
      "image/png": "[encoded data removed]",
      "text/plain": [
       "<Figure size 432x288 with 1 Axes>"
      ]
     },
     "metadata": {
      "needs_background": "light"
     },
     "output_type": "display_data"
    }
   ],
   "source": [
    "plt.hist((steps1))\n",
    "plt.title(\"Distribution of Steps for Walkers in 1 Dimensions, q = 0.01\")\n",
    "plt.xlabel(\"Steps Traveled\")\n",
    "plt.ylabel(\"Count\")\n",
    "plt.show()"
   ]
  },
  {
   "cell_type": "code",
   "execution_count": 99,
   "id": "9610dfa6",
   "metadata": {},
   "outputs": [
    {
     "data": {
      "text/plain": [
       "(array([[0., 0., 0., ..., 0., 0., 0.],\n",
       "        [0., 0., 0., ..., 0., 0., 0.],\n",
       "        [0., 0., 0., ..., 0., 0., 0.],\n",
       "        ...,\n",
       "        [0., 0., 0., ..., 0., 0., 0.],\n",
       "        [0., 0., 0., ..., 0., 0., 0.],\n",
       "        [0., 0., 0., ..., 0., 0., 0.]]),\n",
       " array([-55.    , -53.7875, -52.575 , -51.3625, -50.15  , -48.9375,\n",
       "        -47.725 , -46.5125, -45.3   , -44.0875, -42.875 , -41.6625,\n",
       "        -40.45  , -39.2375, -38.025 , -36.8125, -35.6   , -34.3875,\n",
       "        -33.175 , -31.9625, -30.75  , -29.5375, -28.325 , -27.1125,\n",
       "        -25.9   , -24.6875, -23.475 , -22.2625, -21.05  , -19.8375,\n",
       "        -18.625 , -17.4125, -16.2   , -14.9875, -13.775 , -12.5625,\n",
       "        -11.35  , -10.1375,  -8.925 ,  -7.7125,  -6.5   ,  -5.2875,\n",
       "         -4.075 ,  -2.8625,  -1.65  ,  -0.4375,   0.775 ,   1.9875,\n",
       "          3.2   ,   4.4125,   5.625 ,   6.8375,   8.05  ,   9.2625,\n",
       "         10.475 ,  11.6875,  12.9   ,  14.1125,  15.325 ,  16.5375,\n",
       "         17.75  ,  18.9625,  20.175 ,  21.3875,  22.6   ,  23.8125,\n",
       "         25.025 ,  26.2375,  27.45  ,  28.6625,  29.875 ,  31.0875,\n",
       "         32.3   ,  33.5125,  34.725 ,  35.9375,  37.15  ,  38.3625,\n",
       "         39.575 ,  40.7875,  42.    ]),\n",
       " array([-64.    , -62.4625, -60.925 , -59.3875, -57.85  , -56.3125,\n",
       "        -54.775 , -53.2375, -51.7   , -50.1625, -48.625 , -47.0875,\n",
       "        -45.55  , -44.0125, -42.475 , -40.9375, -39.4   , -37.8625,\n",
       "        -36.325 , -34.7875, -33.25  , -31.7125, -30.175 , -28.6375,\n",
       "        -27.1   , -25.5625, -24.025 , -22.4875, -20.95  , -19.4125,\n",
       "        -17.875 , -16.3375, -14.8   , -13.2625, -11.725 , -10.1875,\n",
       "         -8.65  ,  -7.1125,  -5.575 ,  -4.0375,  -2.5   ,  -0.9625,\n",
       "          0.575 ,   2.1125,   3.65  ,   5.1875,   6.725 ,   8.2625,\n",
       "          9.8   ,  11.3375,  12.875 ,  14.4125,  15.95  ,  17.4875,\n",
       "         19.025 ,  20.5625,  22.1   ,  23.6375,  25.175 ,  26.7125,\n",
       "         28.25  ,  29.7875,  31.325 ,  32.8625,  34.4   ,  35.9375,\n",
       "         37.475 ,  39.0125,  40.55  ,  42.0875,  43.625 ,  45.1625,\n",
       "         46.7   ,  48.2375,  49.775 ,  51.3125,  52.85  ,  54.3875,\n",
       "         55.925 ,  57.4625,  59.    ]),\n",
       " <matplotlib.collections.QuadMesh at 0x1a02cfe9430>)"
      ]
     },
     "execution_count": 99,
     "metadata": {},
     "output_type": "execute_result"
    },
    {
     "data": {
      "image/png": "[encoded data removed]",
      "text/plain": [
       "<Figure size 432x288 with 1 Axes>"
      ]
     },
     "metadata": {
      "needs_background": "light"
     },
     "output_type": "display_data"
    }
   ],
   "source": [
    "endP = np.array(endSquare).transpose()\n",
    "plt.hist2d(endP[0], endP[1], bins = 80)"
   ]
  },
  {
   "cell_type": "code",
   "execution_count": 96,
   "id": "a4ec3a53",
   "metadata": {},
   "outputs": [
    {
     "data": {
      "text/plain": [
       "array([[  8, -13,  -4, ...,   3,   4,  -3],\n",
       "       [-29,  -4,  10, ...,   8,  -7,  -8],\n",
       "       [  0,   0,   0, ...,   0,   0,   0]])"
      ]
     },
     "execution_count": 96,
     "metadata": {},
     "output_type": "execute_result"
    }
   ],
   "source": [
    "endP"
   ]
  },
  {
   "cell_type": "code",
   "execution_count": null,
   "id": "befe72c3",
   "metadata": {},
   "outputs": [],
   "source": []
  }
 ],
 "metadata": {
  "kernelspec": {
   "display_name": "Python 3 (ipykernel)",
   "language": "python",
   "name": "python3"
  },
  "language_info": {
   "codemirror_mode": {
    "name": "ipython",
    "version": 3
   },
   "file_extension": ".py",
   "mimetype": "text/x-python",
   "name": "python",
   "nbconvert_exporter": "python",
   "pygments_lexer": "ipython3",
   "version": "3.8.7"
  }
 },
 "nbformat": 4,
 "nbformat_minor": 5
}
